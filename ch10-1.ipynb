{
 "cells": [
  {
   "attachments": {},
   "cell_type": "markdown",
   "metadata": {},
   "source": [
    "# 10.1 泛型資料型別\n",
    "\n",
    "Ref: [泛型資料型別](https://rust-lang.tw/book-tw/ch10-01-syntax.html)"
   ]
  },
  {
   "attachments": {},
   "cell_type": "markdown",
   "metadata": {},
   "source": [
    "### 在函式中定義\n",
    "\n",
    "> 當要使用泛型定義函數時，我們通常會將泛型置於函式簽名中指定參數與回傳值資料型別的位置。這樣做能讓我們的程式碼更具彈性並向呼叫者提供更多功能，同時還能防止重複程式碼。\n",
    ">\n",
    "> 接續我們 largest 函式的例子， __範例 10-4__  展示了兩個都在切片上尋找最大值的函式。我們要使用泛型將它們融合成一個函式。\n",
    "\n"
   ]
  },
  {
   "cell_type": "code",
   "execution_count": 2,
   "metadata": {
    "vscode": {
     "languageId": "rust"
    }
   },
   "outputs": [
    {
     "name": "stdout",
     "output_type": "stream",
     "text": [
      "最大數字為 100\n",
      "最大字元為 y\n"
     ]
    },
    {
     "data": {
      "text/plain": [
       "()"
      ]
     },
     "execution_count": 2,
     "metadata": {},
     "output_type": "execute_result"
    }
   ],
   "source": [
    "// 範例 10-4：兩個名稱與其簽名中的型別都不同的函式\n",
    "\n",
    "fn largest_i32(list: &[i32]) -> &i32 {\n",
    "    let mut largest = &list[0];\n",
    "\n",
    "    for item in list {\n",
    "        if item > largest {\n",
    "            largest = item;\n",
    "        }\n",
    "    }\n",
    "\n",
    "    largest\n",
    "}\n",
    "\n",
    "fn largest_char(list: &[char]) -> &char {\n",
    "    let mut largest = &list[0];\n",
    "\n",
    "    for item in list {\n",
    "        if item > largest {\n",
    "            largest = item;\n",
    "        }\n",
    "    }\n",
    "\n",
    "    largest\n",
    "}\n",
    "\n",
    "fn main() {\n",
    "    let number_list = vec![34, 50, 25, 100, 65];\n",
    "\n",
    "    let result = largest_i32(&number_list);\n",
    "    println!(\"最大數字為 {}\", result);\n",
    "    assert_eq!(*result, 100);\n",
    "\n",
    "    let char_list = vec!['y', 'm', 'a', 'q'];\n",
    "\n",
    "    let result = largest_char(&char_list);\n",
    "    println!(\"最大字元為 {}\", result);\n",
    "    assert_eq!(*result, 'y');\n",
    "}\n",
    "main()"
   ]
  },
  {
   "attachments": {},
   "cell_type": "markdown",
   "metadata": {},
   "source": [
    "上列兩個分別處理 `char` 以及 `i32` 的 `largest_char` 和 `largest_i32` 函式，我們可以將它們融合成一個函式，如 __範例 10-5__ 所示。\n",
    "\n",
    "```rust\n",
    "fn largest<T>(list: &[T]) -> &T {\n",
    "```"
   ]
  },
  {
   "attachments": {},
   "cell_type": "markdown",
   "metadata": {},
   "source": [
    "## 10.1.1 定義共同行為"
   ]
  },
  {
   "cell_type": "code",
   "execution_count": 3,
   "metadata": {
    "vscode": {
     "languageId": "rust"
    }
   },
   "outputs": [
    {
     "ename": "Error",
     "evalue": "binary operation `>` cannot be applied to type `&T`",
     "output_type": "error",
     "traceback": [
      "        if item > largest {",
      "\u001b[91m           ^^^^\u001b[0m \u001b[94m&T\u001b[0m",
      "        if item > largest {",
      "\u001b[91m                  ^^^^^^^\u001b[0m \u001b[94m&T\u001b[0m",
      "        if item > largest {",
      "\u001b[91m                ^\u001b[0m \u001b[94merror: binary operation `>` cannot be applied to type `&T`\u001b[0m",
      "binary operation `>` cannot be applied to type `&T`",
      "\u001b[1mhelp\u001b[0m: consider restricting type parameter `T`\n\n: std::cmp::PartialOrd"
     ]
    }
   ],
   "source": [
    "// 範例 10-5：使用泛型型別參數的 largest 函式，但現在還不能編譯\n",
    "\n",
    "fn largest<T>(list: &[T]) -> &T {\n",
    "    let mut largest = &list[0];\n",
    "\n",
    "    for item in list {\n",
    "        if item > largest {\n",
    "            largest = item;\n",
    "        }\n",
    "    }\n",
    "\n",
    "    largest\n",
    "}"
   ]
  },
  {
   "attachments": {},
   "cell_type": "markdown",
   "metadata": {},
   "source": [
    "<div>\n",
    "    <img src=\"./does_not_compile.svg\" width=\"100\"/>\n",
    "</div>\n",
    "\n",
    "在這邊我們遇到的問題是，編譯器認為這邊可能會遇到不能直接做比較操作的型別，而建議我們把 `largest` 接受的型別定義好，這個部分會在 10.2 提及。\n",
    "\n",
    "> 提示文字中提到了 `std::cmp::PartialOrd` 這個特徵（`trait`）。我們會在下個段落來討論特徵。\n",
    "> 現在只需要知道 `largest` 本體無法適用於**所有可能**的 `T` 型別，因為我們想要在本體中比較型別 `T` 的數值，我們**只能在能夠排序的型別**中做比較。\n",
    "> 要能夠比較的話，標準函式庫有提供 `std::cmp::PartialOrd` 特徵讓你可以針對你的型別來實作（請查閱附錄 C 來瞭解更多此特徵的細節）。照著提示文字的建議，我們限制 T 只對有實作 `PartialOrd` 的型別有效。這樣此範例就能編譯，因為標準函式庫有對 `i32` 與 `char` 實作 `PartialOrd`。"
   ]
  },
  {
   "cell_type": "code",
   "execution_count": 4,
   "metadata": {
    "vscode": {
     "languageId": "rust"
    }
   },
   "outputs": [
    {
     "ename": "Error",
     "evalue": "cannot find function `largest` in this scope",
     "output_type": "error",
     "traceback": [
      "    let result = largest(&number_list);",
      "\u001b[91m                 ^^^^^^^\u001b[0m \u001b[94mnot found in this scope\u001b[0m",
      "cannot find function `largest` in this scope"
     ]
    },
    {
     "ename": "Error",
     "evalue": "cannot find function `largest` in this scope",
     "output_type": "error",
     "traceback": [
      "    let result = largest(&char_list);",
      "\u001b[91m                 ^^^^^^^\u001b[0m \u001b[94mnot found in this scope\u001b[0m",
      "cannot find function `largest` in this scope"
     ]
    }
   ],
   "source": [
    "fn main() {\n",
    "    let number_list = vec![34, 50, 25, 100, 65];\n",
    "\n",
    "    let result = largest(&number_list);\n",
    "    println!(\"最大數字為 {}\", result);\n",
    "\n",
    "    let char_list = vec!['y', 'm', 'a', 'q'];\n",
    "\n",
    "    let result = largest(&char_list);\n",
    "    println!(\"最大字元為 {}\", result);\n",
    "}\n",
    "\n",
    "main()"
   ]
  },
  {
   "attachments": {},
   "cell_type": "markdown",
   "metadata": {},
   "source": [
    "---\n",
    "\n",
    "## 10.1.2 在結構體中使用泛型\n",
    "\n",
    "- 在下方我們就使用了泛型來定義一個結構體，這個結構體可以儲存任何型別的值，而這裡以 `i32` 為例。"
   ]
  },
  {
   "cell_type": "code",
   "execution_count": 5,
   "metadata": {
    "vscode": {
     "languageId": "rust"
    }
   },
   "outputs": [
    {
     "data": {
      "text/plain": [
       "()"
      ]
     },
     "execution_count": 5,
     "metadata": {},
     "output_type": "execute_result"
    }
   ],
   "source": [
    "// 範例 10-6：Point<T> 結構體的 x 與 y 會有型別 T 的數值\n",
    "\n",
    "struct Point<T> {\n",
    "    x: T,\n",
    "    y: T,\n",
    "}\n",
    "\n",
    "fn main() {\n",
    "    let integer = Point { x: 5, y: 10 };\n",
    "    let float = Point { x: 1.0, y: 4.0 };\n",
    "}\n",
    "\n",
    "main()"
   ]
  },
  {
   "attachments": {},
   "cell_type": "markdown",
   "metadata": {},
   "source": [
    "- 輸入的時候必須是相同的型別，不然會出錯。下方編譯器在得知第一個參數為 `i32` 後，就會推斷出第二個參數也必須是 `i32`。\n",
    "\n",
    "> 在此例中，當我們賦值 `5` 給 `x` 時，我們讓編譯器知道 `Point<T>` 實例中的泛型型別 `T` 會是**整數**。然後我們將 `4.0` 賦值給 `y`，這應該要和 `x` 有相同型別，所以我們會獲得以下錯誤："
   ]
  },
  {
   "cell_type": "code",
   "execution_count": 6,
   "metadata": {
    "vscode": {
     "languageId": "rust"
    }
   },
   "outputs": [
    {
     "ename": "Error",
     "evalue": "mismatched types",
     "output_type": "error",
     "traceback": [
      "    let wont_work = Point { x: 5, y: 4.0 };",
      "\u001b[91m                                     ^^^\u001b[0m \u001b[94mexpected integer, found floating-point number\u001b[0m",
      "mismatched types"
     ]
    }
   ],
   "source": [
    "// 範例 10-7：欄位 x 與 y 必須是相同型別，因為它們擁有相同的泛型資料型別 T\n",
    "\n",
    "struct Point<T> {\n",
    "    x: T,\n",
    "    y: T,\n",
    "}\n",
    "\n",
    "fn main() {\n",
    "    let wont_work = Point { x: 5, y: 4.0 };\n",
    "}\n",
    "\n",
    "main()"
   ]
  },
  {
   "attachments": {},
   "cell_type": "markdown",
   "metadata": {},
   "source": [
    "- 如果有使用不一樣的型別，就要分開定義"
   ]
  },
  {
   "cell_type": "code",
   "execution_count": 7,
   "metadata": {
    "vscode": {
     "languageId": "rust"
    }
   },
   "outputs": [
    {
     "data": {
      "text/plain": [
       "()"
      ]
     },
     "execution_count": 7,
     "metadata": {},
     "output_type": "execute_result"
    }
   ],
   "source": [
    "// 範例 10-8：Point<T, U> 擁有兩個泛型型別，所以 x 和 y 可以有不同的型別數值\n",
    "\n",
    "struct Point<T, U> {\n",
    "    x: T,\n",
    "    y: U,\n",
    "}\n",
    "\n",
    "fn main() {\n",
    "    let both_integer = Point { x: 5, y: 10 };\n",
    "    let both_float = Point { x: 1.0, y: 4.0 };\n",
    "    let integer_and_float = Point { x: 5, y: 4.0 };\n",
    "}\n",
    "main()"
   ]
  },
  {
   "attachments": {},
   "cell_type": "markdown",
   "metadata": {},
   "source": [
    "---\n",
    "\n",
    "## 10.1.3 在枚舉(`Result`, `Option`)中使用泛型"
   ]
  },
  {
   "cell_type": "code",
   "execution_count": 85,
   "metadata": {
    "vscode": {
     "languageId": "rust"
    }
   },
   "outputs": [],
   "source": [
    "enum Option<T> {\n",
    "    Some(T),\n",
    "    None,\n",
    "}"
   ]
  },
  {
   "cell_type": "code",
   "execution_count": 86,
   "metadata": {
    "vscode": {
     "languageId": "rust"
    }
   },
   "outputs": [],
   "source": [
    "enum Result<T, E> {\n",
    "    Ok(T),\n",
    "    Err(E),\n",
    "}"
   ]
  },
  {
   "attachments": {},
   "cell_type": "markdown",
   "metadata": {},
   "source": [
    "---\n",
    "\n",
    "### 10.1.4 在方法（Method）中使用泛型\n",
    "\n",
    "> 我們可以對結構體或枚舉定義方法（如第五章所述）並也可以使用泛型型別來定義。 __範例 10-9__ 展示了我們在 __範例 10-6__ 定義的結構體 `Point<T>` 並實作了一個叫做 `x` 的方法。"
   ]
  },
  {
   "cell_type": "code",
   "execution_count": 8,
   "metadata": {
    "vscode": {
     "languageId": "rust"
    }
   },
   "outputs": [
    {
     "name": "stdout",
     "output_type": "stream",
     "text": [
      "p.x = 5\n"
     ]
    },
    {
     "data": {
      "text/plain": [
       "()"
      ]
     },
     "execution_count": 8,
     "metadata": {},
     "output_type": "execute_result"
    }
   ],
   "source": [
    "// 範例 10-9：在 Point<T> 結構體實作一個方法叫做 x，其會回傳 x 欄位中型別為 T 的參考\n",
    "\n",
    "struct Point<T> {\n",
    "    x: T,\n",
    "    y: T,\n",
    "}\n",
    "\n",
    "impl<T> Point<T> {\n",
    "    fn x(&self) -> &T {\n",
    "        &self.x\n",
    "    }\n",
    "}\n",
    "\n",
    "fn main() {\n",
    "    let p = Point { x: 5, y: 10 };\n",
    "\n",
    "    println!(\"p.x = {}\", p.x());\n",
    "}\n",
    "main()"
   ]
  },
  {
   "attachments": {},
   "cell_type": "markdown",
   "metadata": {},
   "source": [
    "> 注意到我們需要在 `impl` 宣告 `T`，才有 `T` 可以用來標明我們在替型別 `Point<T>` 實作其方法。在 `impl` 之後宣告泛型型別 `T`，Rust 可以識別出 `Point` 尖括號內的型別為泛型型別而非實際型別。我們其實可以選用不同的泛型參數名稱，而不用和結構體定義的泛型參數一樣，不過通常使用相同名稱還是比較常見。無論該泛型型別最終會是何種實際型別，任何方法在有宣告泛型型別的 `impl` 內，都會被定義成適用於各種型別實例。"
   ]
  },
  {
   "attachments": {},
   "cell_type": "markdown",
   "metadata": {},
   "source": [
    "### a. 限制方法所使用的泛型型別\n",
    "\n",
    "> 當我們在定義方法時，我們也可以對泛型型別加上些限制。舉例來說，我們可以只針對 `Point<f32>` 的實例來實作方法，而非適用於任何泛型型別的 `Point<T>` 實例。\n",
    "\n",
    "而這個時候變不用加`T`"
   ]
  },
  {
   "cell_type": "code",
   "execution_count": 10,
   "metadata": {
    "vscode": {
     "languageId": "rust"
    }
   },
   "outputs": [
    {
     "name": "stdout",
     "output_type": "stream",
     "text": [
      "p.x = 5\n"
     ]
    },
    {
     "data": {
      "text/plain": [
       "()"
      ]
     },
     "execution_count": 10,
     "metadata": {},
     "output_type": "execute_result"
    }
   ],
   "source": [
    "// 範例 10-10：一個只適用於擁有泛型 T 結構體其中的特定實際型別的 impl 區塊\n",
    "\n",
    "struct Point<T> {\n",
    "    x: T,\n",
    "    y: T,\n",
    "}\n",
    "\n",
    "impl<T> Point<T> {\n",
    "    fn x(&self) -> &T {\n",
    "        &self.x\n",
    "    }\n",
    "}\n",
    "\n",
    "impl Point<f32> {\n",
    "    fn distance_from_origin(&self) -> f32 {\n",
    "        (self.x.powi(2) + self.y.powi(2)).sqrt()\n",
    "    }\n",
    "}\n",
    "\n",
    "fn main() {\n",
    "    let p = Point { x: 5, y: 10 };\n",
    "\n",
    "    println!(\"p.x = {}\", p.x());\n",
    "}\n",
    "main()"
   ]
  },
  {
   "attachments": {},
   "cell_type": "markdown",
   "metadata": {},
   "source": [
    "實作方法也可以不用到泛型型別，如下所示。"
   ]
  },
  {
   "cell_type": "code",
   "execution_count": 15,
   "metadata": {
    "vscode": {
     "languageId": "rust"
    }
   },
   "outputs": [
    {
     "name": "stdout",
     "output_type": "stream",
     "text": [
      "p.the_utlmatic_answer_of_all = 42\n"
     ]
    },
    {
     "data": {
      "text/plain": [
       "()"
      ]
     },
     "execution_count": 15,
     "metadata": {},
     "output_type": "execute_result"
    }
   ],
   "source": [
    "struct Point02<T> {\n",
    "    x: T,\n",
    "    y: T,\n",
    "}\n",
    "\n",
    "impl<T> Point02<T> {\n",
    "    fn the_utlmatic_answer_of_all(&self) -> i32 {\n",
    "        42\n",
    "    }\n",
    "}\n",
    "\n",
    "fn main() {\n",
    "    let p = Point02 { x: 5, y: 10 };\n",
    "\n",
    "    println!(\"p.the_utlmatic_answer_of_all = {}\", p.the_utlmatic_answer_of_all());\n",
    "}\n",
    "main()"
   ]
  },
  {
   "attachments": {},
   "cell_type": "markdown",
   "metadata": {},
   "source": [
    "### b. 多個泛型的例子"
   ]
  },
  {
   "cell_type": "code",
   "execution_count": 3,
   "metadata": {
    "vscode": {
     "languageId": "rust"
    }
   },
   "outputs": [
    {
     "name": "stdout",
     "output_type": "stream",
     "text": [
      "p3.x = 5, p3.y = c\n"
     ]
    },
    {
     "data": {
      "text/plain": [
       "()"
      ]
     },
     "execution_count": 3,
     "metadata": {},
     "output_type": "execute_result"
    }
   ],
   "source": [
    "// 範例 10-11：結構體定義中使用不同的泛型型別的方法\n",
    "\n",
    "struct PointMulti<X1, Y1> {\n",
    "    x: X1,\n",
    "    y: Y1,\n",
    "}\n",
    "\n",
    "impl<X1, Y1> PointMulti<X1, Y1> {\n",
    "    fn mixup<X2, Y2>(self, other: PointMulti<X2, Y2>) -> PointMulti<X1, Y2> {\n",
    "        PointMulti {\n",
    "            x: self.x,\n",
    "            y: other.y,\n",
    "        }\n",
    "    }\n",
    "}\n",
    "\n",
    "fn main() {\n",
    "    let p1 = PointMulti { x: 5, y: 10.4 };\n",
    "    let p2 = PointMulti { x: \"Hello\", y: 'c' };\n",
    "\n",
    "    let p3 = p1.mixup(p2);\n",
    "\n",
    "    println!(\"p3.x = {}, p3.y = {}\", p3.x, p3.y);\n",
    "}\n",
    "main()"
   ]
  },
  {
   "attachments": {},
   "cell_type": "markdown",
   "metadata": {},
   "source": [
    "- 實作（`impl`）中使用的泛型型別註解名稱得必須和實作對象的一致，否則編譯器會無法辨認"
   ]
  },
  {
   "cell_type": "code",
   "execution_count": 4,
   "metadata": {
    "vscode": {
     "languageId": "rust"
    }
   },
   "outputs": [
    {
     "ename": "Error",
     "evalue": "cannot find type `X2` in this scope",
     "output_type": "error",
     "traceback": [
      "\u001b[31m[E0412] Error:\u001b[0m cannot find type `X2` in this scope",
      "   \u001b[38;5;246m╭\u001b[0m\u001b[38;5;246m─\u001b[0m\u001b[38;5;246m[\u001b[0mcommand_4:1:1\u001b[38;5;246m]\u001b[0m",
      "   \u001b[38;5;246m│\u001b[0m",
      " \u001b[38;5;246m1 │\u001b[0m \u001b[38;5;249mi\u001b[0m\u001b[38;5;249mm\u001b[0m\u001b[38;5;249mp\u001b[0m\u001b[38;5;249ml\u001b[0m\u001b[38;5;249m<\u001b[0m\u001b[38;5;249mT\u001b[0m\u001b[38;5;249m,\u001b[0m\u001b[38;5;249m \u001b[0m\u001b[38;5;249mU\u001b[0m\u001b[38;5;249m>\u001b[0m\u001b[38;5;249m \u001b[0m\u001b[38;5;249mP\u001b[0m\u001b[38;5;249mo\u001b[0m\u001b[38;5;249mi\u001b[0m\u001b[38;5;249mn\u001b[0m\u001b[38;5;249mt\u001b[0m\u001b[38;5;249mM\u001b[0m\u001b[38;5;249mu\u001b[0m\u001b[38;5;249ml\u001b[0m\u001b[38;5;249mt\u001b[0m\u001b[38;5;249mi\u001b[0m\u001b[38;5;249m<\u001b[0m\u001b[38;5;54mX\u001b[0m\u001b[38;5;54m2\u001b[0m\u001b[38;5;249m,\u001b[0m\u001b[38;5;249m \u001b[0m\u001b[38;5;249mY\u001b[0m\u001b[38;5;249m2\u001b[0m\u001b[38;5;249m>\u001b[0m\u001b[38;5;249m \u001b[0m\u001b[38;5;249m{\u001b[0m",
      " \u001b[38;5;246m  ·\u001b[0m          \u001b[38;5;100m│\u001b[0m            \u001b[38;5;54m─\u001b[0m\u001b[38;5;54m┬\u001b[0m  ",
      " \u001b[38;5;246m  ·\u001b[0m          \u001b[38;5;100m╰\u001b[0m\u001b[38;5;100m─\u001b[0m\u001b[38;5;100m─\u001b[0m\u001b[38;5;100m─\u001b[0m\u001b[38;5;100m─\u001b[0m\u001b[38;5;100m─\u001b[0m\u001b[38;5;100m─\u001b[0m\u001b[38;5;100m─\u001b[0m\u001b[38;5;100m─\u001b[0m\u001b[38;5;100m─\u001b[0m\u001b[38;5;100m─\u001b[0m\u001b[38;5;100m─\u001b[0m\u001b[38;5;100m─\u001b[0m\u001b[38;5;100m─\u001b[0m\u001b[38;5;100m─\u001b[0m\u001b[38;5;100m─\u001b[0m\u001b[38;5;100m─\u001b[0m help: you might be missing a type parameter: `, X2`",
      " \u001b[38;5;246m  ·\u001b[0m                        \u001b[38;5;54m│\u001b[0m  ",
      " \u001b[38;5;246m  ·\u001b[0m                        \u001b[38;5;54m╰\u001b[0m\u001b[38;5;54m─\u001b[0m\u001b[38;5;54m─\u001b[0m not found in this scope",
      "\u001b[38;5;246m───╯\u001b[0m"
     ]
    },
    {
     "ename": "Error",
     "evalue": "cannot find type `Y2` in this scope",
     "output_type": "error",
     "traceback": [
      "\u001b[31m[E0412] Error:\u001b[0m cannot find type `Y2` in this scope",
      "   \u001b[38;5;246m╭\u001b[0m\u001b[38;5;246m─\u001b[0m\u001b[38;5;246m[\u001b[0mcommand_4:1:1\u001b[38;5;246m]\u001b[0m",
      "   \u001b[38;5;246m│\u001b[0m",
      " \u001b[38;5;246m1 │\u001b[0m \u001b[38;5;249mi\u001b[0m\u001b[38;5;249mm\u001b[0m\u001b[38;5;249mp\u001b[0m\u001b[38;5;249ml\u001b[0m\u001b[38;5;249m<\u001b[0m\u001b[38;5;249mT\u001b[0m\u001b[38;5;249m,\u001b[0m\u001b[38;5;249m \u001b[0m\u001b[38;5;249mU\u001b[0m\u001b[38;5;249m>\u001b[0m\u001b[38;5;249m \u001b[0m\u001b[38;5;249mP\u001b[0m\u001b[38;5;249mo\u001b[0m\u001b[38;5;249mi\u001b[0m\u001b[38;5;249mn\u001b[0m\u001b[38;5;249mt\u001b[0m\u001b[38;5;249mM\u001b[0m\u001b[38;5;249mu\u001b[0m\u001b[38;5;249ml\u001b[0m\u001b[38;5;249mt\u001b[0m\u001b[38;5;249mi\u001b[0m\u001b[38;5;249m<\u001b[0m\u001b[38;5;249mX\u001b[0m\u001b[38;5;249m2\u001b[0m\u001b[38;5;249m,\u001b[0m\u001b[38;5;249m \u001b[0m\u001b[38;5;54mY\u001b[0m\u001b[38;5;54m2\u001b[0m\u001b[38;5;249m>\u001b[0m\u001b[38;5;249m \u001b[0m\u001b[38;5;249m{\u001b[0m",
      " \u001b[38;5;246m  ·\u001b[0m          \u001b[38;5;100m│\u001b[0m                \u001b[38;5;54m─\u001b[0m\u001b[38;5;54m┬\u001b[0m  ",
      " \u001b[38;5;246m  ·\u001b[0m          \u001b[38;5;100m╰\u001b[0m\u001b[38;5;100m─\u001b[0m\u001b[38;5;100m─\u001b[0m\u001b[38;5;100m─\u001b[0m\u001b[38;5;100m─\u001b[0m\u001b[38;5;100m─\u001b[0m\u001b[38;5;100m─\u001b[0m\u001b[38;5;100m─\u001b[0m\u001b[38;5;100m─\u001b[0m\u001b[38;5;100m─\u001b[0m\u001b[38;5;100m─\u001b[0m\u001b[38;5;100m─\u001b[0m\u001b[38;5;100m─\u001b[0m\u001b[38;5;100m─\u001b[0m\u001b[38;5;100m─\u001b[0m\u001b[38;5;100m─\u001b[0m\u001b[38;5;100m─\u001b[0m\u001b[38;5;100m─\u001b[0m\u001b[38;5;100m─\u001b[0m\u001b[38;5;100m─\u001b[0m\u001b[38;5;100m─\u001b[0m help: you might be missing a type parameter: `, Y2`",
      " \u001b[38;5;246m  ·\u001b[0m                            \u001b[38;5;54m│\u001b[0m  ",
      " \u001b[38;5;246m  ·\u001b[0m                            \u001b[38;5;54m╰\u001b[0m\u001b[38;5;54m─\u001b[0m\u001b[38;5;54m─\u001b[0m not found in this scope",
      "\u001b[38;5;246m───╯\u001b[0m"
     ]
    }
   ],
   "source": [
    "impl<T, U> PointMulti<X2, Y2> {\n",
    "\n",
    "}"
   ]
  },
  {
   "attachments": {},
   "cell_type": "markdown",
   "metadata": {},
   "source": [
    "## 10.1.5 使用泛型的程式碼效能\n",
    "\n",
    "> 你可能會好奇當你使用泛型型別參數會不會有執行時的消耗。**好消息是使用泛型型別不會比使用實際型別還來的慢**。\n",
    "> \n",
    "> Rust 在編譯時對使用泛型的程式碼進行單態化（monomorphization）。單態化是個讓泛型程式碼轉換成特定程式碼的過程，在編譯時填入實際的型別。在此過程中，編譯器會做與我們在範例 10-5 建立泛型函式相反的事：編譯器檢查所有泛型程式碼被呼叫的地方，並依據泛型程式碼被呼叫的情況產生實際型別的程式碼。\n",
    "\n",
    "你~~煮出來的義麵碼~~寫出來的程式碼：\n",
    "\n",
    "```rust\n",
    "let integer = Some(5);\n",
    "let float = Some(5.0);\n",
    "```\n",
    "> 當 Rust 編譯此程式碼時中，他會進行單態化。在此過程中，會讀取 Option<T> 實例中使用的數值並識別出兩種 Option<T>：一種是 i32 而另一種是 f64。接著它就會將 Option<T> 的泛型定義展開為兩種定義 i32 與 f64，以此替換函式定義為特定型別。\n",
    "\n",
    "\n",
    "編譯器執行的：\n",
    "\n",
    "```rust\n",
    "enum Option_i32 {\n",
    "    Some(i32),\n",
    "    None,\n",
    "}\n",
    "\n",
    "enum Option_f64 {\n",
    "    Some(f64),\n",
    "    None,\n",
    "}\n",
    "\n",
    "fn main() {\n",
    "    let integer = Option_i32::Some(5);\n",
    "    let float = Option_f64::Some(5.0);\n",
    "}\n",
    "```\n",
    "\n",
    "編譯器實際上會去確認泛型中出現的型別，然後分別把他們真正實作後，再去執行"
   ]
  }
 ],
 "metadata": {
  "kernelspec": {
   "display_name": "Rust",
   "language": "rust",
   "name": "rust"
  },
  "language_info": {
   "codemirror_mode": "rust",
   "file_extension": ".rs",
   "mimetype": "text/rust",
   "name": "Rust",
   "pygment_lexer": "rust",
   "version": ""
  },
  "orig_nbformat": 4
 },
 "nbformat": 4,
 "nbformat_minor": 2
}
