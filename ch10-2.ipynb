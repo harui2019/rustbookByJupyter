{
 "cells": [
  {
   "attachments": {},
   "cell_type": "markdown",
   "metadata": {},
   "source": [
    "# 10.2 特徵：定義共同行為\n",
    "\n",
    "> 特徵（trait）會定義特定型別與其他型別共享的功能。我們可以使用特徵定義來抽象出共同行為。我們可以使用特徵界限（trait bounds）來指定泛型型別為擁有特定行為的任意型別。"
   ]
  },
  {
   "attachments": {},
   "cell_type": "markdown",
   "metadata": {},
   "source": [
    "## 10.2.1 定義特徵\n",
    "\n",
    "> 一個型別的行為包含我們對該型別可以呼叫的方法。\n",
    "> 如果我們可以對不同型別呼叫相同的方法，這些型別就能定義共同行為了。\n",
    "> 特徵定義是一個將方法簽名統整起來，來達成一些目的而定義一系列行為的方法。\n",
    "\n",
    "基本上類似於其他語言中抽象型別的概念，將幾個行為類似重複的操作先規範起來，之後讓其他地方實作。"
   ]
  },
  {
   "cell_type": "code",
   "execution_count": 3,
   "metadata": {
    "vscode": {
     "languageId": "rust"
    }
   },
   "outputs": [],
   "source": [
    "// 範例 10-12：Summary 特徵包含 summarize 方法所定義的行為\n",
    "pub trait Summary {\n",
    "    fn summarize(&self) -> String;\n",
    "}"
   ]
  },
  {
   "attachments": {},
   "cell_type": "markdown",
   "metadata": {},
   "source": [
    "## 10.2.2 為型別實作特徵"
   ]
  },
  {
   "attachments": {},
   "cell_type": "markdown",
   "metadata": {},
   "source": [
    "- 這邊我們定義了一個 `Summary` 的特徵，並且在 `impl` 中實作了 `summary` 方法，這個方法會回傳一個字串。"
   ]
  },
  {
   "cell_type": "code",
   "execution_count": 4,
   "metadata": {
    "vscode": {
     "languageId": "rust"
    }
   },
   "outputs": [],
   "source": [
    "// 範例 10-13：在型別 NewsArticle 與 Tweet 實作 Summary 特徵\n",
    "pub struct NewsArticle {\n",
    "    pub headline: String,\n",
    "    pub location: String,\n",
    "    pub author: String,\n",
    "    pub content: String,\n",
    "}\n",
    "\n",
    "impl Summary for NewsArticle {\n",
    "    fn summarize(&self) -> String {\n",
    "        format!(\"{} {} 著 ({})\", self.headline, self.author, self.location)\n",
    "    }\n",
    "}\n",
    "\n",
    "pub struct Tweet {\n",
    "    pub username: String,\n",
    "    pub content: String,\n",
    "    pub reply: bool,\n",
    "    pub retweet: bool,\n",
    "}\n",
    "\n",
    "impl Summary for Tweet {\n",
    "    fn summarize(&self) -> String {\n",
    "        format!(\"{}: {}\", self.username, self.content)\n",
    "    }\n",
    "}\n"
   ]
  },
  {
   "cell_type": "code",
   "execution_count": 5,
   "metadata": {
    "vscode": {
     "languageId": "rust"
    }
   },
   "outputs": [],
   "source": [
    "fn main() {\n",
    "    let tweet = Tweet {\n",
    "        username: String::from(\"horse_ebooks\"),\n",
    "        content: String::from(\n",
    "            \"of course, as you probably already know, people\",\n",
    "        ),\n",
    "        reply: false,\n",
    "        retweet: false,\n",
    "    };\n",
    "\n",
    "    println!(\"帶了Summary: \");\n",
    "    println!(\"1 則新推文：{}\", tweet.summarize());\n",
    "}"
   ]
  },
  {
   "cell_type": "code",
   "execution_count": 6,
   "metadata": {
    "vscode": {
     "languageId": "rust"
    }
   },
   "outputs": [
    {
     "name": "stdout",
     "output_type": "stream",
     "text": [
      "帶了Summary: \n",
      "1 則新推文：horse_ebooks: of course, as you probably already know, people\n"
     ]
    },
    {
     "data": {
      "text/plain": [
       "()"
      ]
     },
     "execution_count": 6,
     "metadata": {},
     "output_type": "execute_result"
    }
   ],
   "source": [
    "main()"
   ]
  },
  {
   "attachments": {},
   "cell_type": "markdown",
   "metadata": {},
   "source": [
    "- 這邊則是沒有定義 `Summary` 特徵的版本\n",
    "\n",
    "雖然沒有也沒關係，但是這樣的程式相對就沒有比較明確的彙整"
   ]
  },
  {
   "cell_type": "code",
   "execution_count": 7,
   "metadata": {
    "vscode": {
     "languageId": "rust"
    }
   },
   "outputs": [],
   "source": [
    "pub struct NewsArticleWithoutSummary {\n",
    "    pub headline: String,\n",
    "    pub location: String,\n",
    "    pub author: String,\n",
    "    pub content: String,\n",
    "}\n",
    "\n",
    "impl NewsArticleWithoutSummary {\n",
    "    fn summarize(&self) -> String {\n",
    "        format!(\"{} {} 著 ({})\", self.headline, self.author, self.location)\n",
    "    }\n",
    "}\n",
    "\n",
    "pub struct TweetWithoutSummary {\n",
    "    pub username: String,\n",
    "    pub content: String,\n",
    "    pub reply: bool,\n",
    "    pub retweet: bool,\n",
    "}\n",
    "\n",
    "impl TweetWithoutSummary {\n",
    "    fn summarize(&self) -> String {\n",
    "        format!(\"{}: {}\", self.username, self.content)\n",
    "    }\n",
    "}\n"
   ]
  },
  {
   "cell_type": "code",
   "execution_count": 8,
   "metadata": {
    "vscode": {
     "languageId": "rust"
    }
   },
   "outputs": [],
   "source": [
    "fn main() {\n",
    "    let tweet = TweetWithoutSummary {\n",
    "        username: String::from(\"horse_ebooks\"),\n",
    "        content: String::from(\n",
    "            \"of course, as you probably already know, people\",\n",
    "        ),\n",
    "        reply: false,\n",
    "        retweet: false,\n",
    "    };\n",
    "\n",
    "    println!(\"不用Summary定義特徵: \");\n",
    "    println!(\"1 則新推文：{}\", tweet.summarize());\n",
    "}"
   ]
  },
  {
   "cell_type": "code",
   "execution_count": 9,
   "metadata": {
    "vscode": {
     "languageId": "rust"
    }
   },
   "outputs": [
    {
     "name": "stdout",
     "output_type": "stream",
     "text": [
      "不用Summary定義特徵: \n",
      "1 則新推文：horse_ebooks: of course, as you probably already know, people\n"
     ]
    },
    {
     "data": {
      "text/plain": [
       "()"
      ]
     },
     "execution_count": 9,
     "metadata": {},
     "output_type": "execute_result"
    }
   ],
   "source": [
    "main()"
   ]
  },
  {
   "attachments": {},
   "cell_type": "markdown",
   "metadata": {},
   "source": [
    "## 10.2.2 預設實作\n",
    "\n",
    "> 有時候對特徵內的一些或所有方法定義預設行為是很實用的，而不必要求每個型別都實作所有方法。然後當我們對特定型別實作特徵時，我們可以保留或覆蓋每個方法的預設行為。\n",
    "\n",
    "這個時候我們對於特徵的使用，就不再只是空有名號的抽象型別，而是真的可以有一些預設的實作，讓其他地方可以直接使用。"
   ]
  },
  {
   "cell_type": "code",
   "execution_count": 10,
   "metadata": {
    "vscode": {
     "languageId": "rust"
    }
   },
   "outputs": [],
   "source": [
    "// 範例 10-14：Summary 特徵定義了 summarize 方法的預設實作\n",
    "pub trait Summary {\n",
    "    fn summarize(&self) -> String {\n",
    "        String::from(\"(閱讀更多...)\")\n",
    "    }\n",
    "}\n",
    "\n",
    "pub struct NewsArticle {\n",
    "    pub headline: String,\n",
    "    pub location: String,\n",
    "    pub author: String,\n",
    "    pub content: String,\n",
    "}\n",
    "\n",
    "impl Summary for NewsArticle {}"
   ]
  },
  {
   "attachments": {},
   "cell_type": "markdown",
   "metadata": {},
   "source": [
    "這邊的 `NewArticle` 就是直接使用了預設的實作。"
   ]
  },
  {
   "cell_type": "code",
   "execution_count": 11,
   "metadata": {
    "vscode": {
     "languageId": "rust"
    }
   },
   "outputs": [],
   "source": [
    "pub struct Tweet {\n",
    "    pub username: String,\n",
    "    pub content: String,\n",
    "    pub reply: bool,\n",
    "    pub retweet: bool,\n",
    "}\n",
    "\n",
    "impl Summary for Tweet {\n",
    "    fn summarize(&self) -> String {\n",
    "        format!(\"{}: {}\", self.username, self.content)\n",
    "    }\n",
    "}\n"
   ]
  },
  {
   "attachments": {},
   "cell_type": "markdown",
   "metadata": {},
   "source": [
    "這邊的 `Tweet` 則在根據自己需要複寫了 `summary` 的實作。"
   ]
  },
  {
   "cell_type": "code",
   "execution_count": 12,
   "metadata": {
    "vscode": {
     "languageId": "rust"
    }
   },
   "outputs": [
    {
     "name": "stdout",
     "output_type": "stream",
     "text": [
      "\n",
      "有新文章發佈！(閱讀更多...)\n",
      "----------------\n",
      "\n",
      "1 則新推文：馬力歐: 馬力歐賽車8 豪華版，將於 4 月 28 日登場！\n"
     ]
    },
    {
     "data": {
      "text/plain": [
       "()"
      ]
     },
     "execution_count": 12,
     "metadata": {},
     "output_type": "execute_result"
    }
   ],
   "source": [
    "fn main() {\n",
    "    let article = NewsArticle {\n",
    "        headline: String::from(\"Penguins win the Stanley Cup Championship!\"),\n",
    "        location: String::from(\"Pittsburgh, PA, USA\"),\n",
    "        author: String::from(\"Iceburgh\"),\n",
    "        content: String::from(\n",
    "            \"The Pittsburgh Penguins once again are the best \\\n",
    "             hockey team in the NHL.\",\n",
    "        ),\n",
    "    };\n",
    "\n",
    "    println!(\"有新文章發佈！{}\", article.summarize());\n",
    "\n",
    "    println!(\"\");\n",
    "    println!(\"----------------\");\n",
    "    println!(\"\");\n",
    "\n",
    "    let tweet = Tweet {\n",
    "        username: String::from(\"馬力歐\"),\n",
    "        content: String::from(\"馬力歐賽車8 豪華版，將於 4 月 28 日登場！\"),\n",
    "        reply: false,\n",
    "        retweet: false,\n",
    "    };\n",
    "\n",
    "    println!(\"1 則新推文：{}\", tweet.summarize());\n",
    "}\n",
    "\n",
    "main()"
   ]
  },
  {
   "attachments": {},
   "cell_type": "markdown",
   "metadata": {},
   "source": [
    "我們可以在特徵裡面定義一些，之後應用的他的實作必須被定義的東西\n",
    "\n",
    "像下面我們現在給了 `Summary` 兩個方法， `summarzie` 和 `summarize_author`\n",
    "\n",
    "`summarize` 有預設的樣式可以直接沿用，但是 `summarize_author` 則是必須被時作者自行實作。\n"
   ]
  },
  {
   "cell_type": "code",
   "execution_count": 13,
   "metadata": {
    "vscode": {
     "languageId": "rust"
    }
   },
   "outputs": [],
   "source": [
    "pub trait SummaryNew {\n",
    "    fn summarize_author(&self) -> String;\n",
    "\n",
    "    fn summarize(&self) -> String {\n",
    "        format!(\"(從 {} 閱讀更多...)\", self.summarize_author())\n",
    "    }\n",
    "}"
   ]
  },
  {
   "attachments": {},
   "cell_type": "markdown",
   "metadata": {},
   "source": [
    "要使用這個版本的 `Summary`，我們只需要在對型別實作特徵時定義 `summarize_author` 就好"
   ]
  },
  {
   "cell_type": "code",
   "execution_count": 14,
   "metadata": {
    "vscode": {
     "languageId": "rust"
    }
   },
   "outputs": [],
   "source": [
    "pub struct TweetNew {\n",
    "    pub username: String,\n",
    "    pub content: String,\n",
    "    pub reply: bool,\n",
    "    pub retweet: bool,\n",
    "}\n",
    "\n",
    "impl SummaryNew for TweetNew {\n",
    "    fn summarize_author(&self) -> String {\n",
    "        format!(\"@{}\", self.username)\n",
    "    }\n",
    "}"
   ]
  },
  {
   "cell_type": "code",
   "execution_count": 15,
   "metadata": {
    "vscode": {
     "languageId": "rust"
    }
   },
   "outputs": [
    {
     "name": "stdout",
     "output_type": "stream",
     "text": [
      "1 則新推文：(從 @馬力歐 閱讀更多...)\n",
      "來自：@馬力歐\n"
     ]
    },
    {
     "data": {
      "text/plain": [
       "()"
      ]
     },
     "execution_count": 15,
     "metadata": {},
     "output_type": "execute_result"
    }
   ],
   "source": [
    "fn main() {\n",
    "\n",
    "    let tweet = TweetNew {\n",
    "        username: String::from(\"馬力歐\"),\n",
    "        content: String::from(\"馬力歐賽車8 豪華版，將於 4 月 28 日登場！\"),\n",
    "        reply: false,\n",
    "        retweet: false,\n",
    "    };\n",
    "\n",
    "    println!(\"1 則新推文：{}\", tweet.summarize());\n",
    "    println!(\"來自：{}\", tweet.summarize_author());\n",
    "}\n",
    "\n",
    "main()"
   ]
  },
  {
   "attachments": {},
   "cell_type": "markdown",
   "metadata": {},
   "source": [
    "## 10.2.3 特徵作為參數\n",
    "\n",
    "這個時候 `Summary` 便先發揮抽象型別的作用"
   ]
  },
  {
   "cell_type": "code",
   "execution_count": 16,
   "metadata": {
    "vscode": {
     "languageId": "rust"
    }
   },
   "outputs": [],
   "source": [
    "pub fn notify(item: &impl Summary) {\n",
    "    println!(\"頭條新聞！{}\", item.summarize());\n",
    "}"
   ]
  },
  {
   "attachments": {},
   "cell_type": "markdown",
   "metadata": {},
   "source": [
    "### a. 特徵界限語法\n",
    "\n",
    "> impl Trait 語法看起來很直觀，不過它其實是一個更長格式的語法糖，這個格式稱之為「特徵界限（trait bound）」，它長得會像這樣\n",
    "\n",
    "然後，我們再利用他去將我們的泛型限制在 `Summary` 這個特徵上，這樣編譯器即使還不知道他真正處理到的是什麼東西，但能先知道要做什麼，而不會報錯"
   ]
  },
  {
   "cell_type": "code",
   "execution_count": 17,
   "metadata": {
    "vscode": {
     "languageId": "rust"
    }
   },
   "outputs": [],
   "source": [
    "pub fn notify<T: Summary>(item: &T) {\n",
    "    println!(\"頭條新聞！{}\", item.summarize());\n",
    "}"
   ]
  },
  {
   "attachments": {},
   "cell_type": "markdown",
   "metadata": {},
   "source": [
    "> 此格式等同於之前段落的範例，只是比較長一點。我們將特徵界限置於泛型型別參數的宣告中，在尖括號內接在冒號之後。\n",
    ">\n",
    "> ```rust\n",
    "> pub fn notify(item: &impl Summary) {\n",
    ">     println!(\"頭條新聞！{}\", item.summarize());\n",
    "> }\n",
    "> ```"
   ]
  },
  {
   "attachments": {},
   "cell_type": "markdown",
   "metadata": {},
   "source": [
    "- 實做多個變數時\n",
    "\n",
    "```rust\n",
    "pub fn notify(item1: &impl Summary, item2: &impl Summary) {\n",
    "```\n",
    "- 但如果我們想要兩個變數的型別都是一樣的話，可以這樣寫\n",
    "\n",
    "```rust\n",
    "pub fn notify<T: Summary>(item1: &T, item2: &T) {\n",
    "```"
   ]
  },
  {
   "attachments": {},
   "cell_type": "markdown",
   "metadata": {},
   "source": [
    "### b. 透過 + 來指定多個特徵界限\n",
    "如果這裡有好幾個特徵，我們可以透過 `+` 來指定多個特徵界限\n",
    "\n",
    "```rust\n",
    "pub fn notify(item: &(impl Summary + Display)) {\n",
    "```\n",
    "\n",
    "或\n",
    "\n",
    "```rust\n",
    "pub fn notify<T: Summary + Display>(item: &T) {\n",
    "```"
   ]
  },
  {
   "attachments": {},
   "cell_type": "markdown",
   "metadata": {},
   "source": [
    "### c. 透過 where 來使特徵界限更清楚\n",
    "\n",
    "> 用太多特徵界限也會帶來壞處。每個泛型都有自己的特徵界限，所以有數個泛型型別的函式可以在函式名稱與參數列表之間包含大量的特徵界限資訊，讓函式簽名難以閱讀。因此 Rust 有提供另一個在函式簽名之後指定特徵界限的語法 where。所以與其這樣寫：\n",
    "\n",
    "\n",
    "\n",
    "```rust\n",
    "fn some_function<T: Display + Clone, U: Clone + Debug>(t: &T, u: &U) -> i32 {\n",
    "```\n",
    "\n",
    "`=>`\n",
    "\n",
    "```rust\n",
    "fn some_function<T, U>(t: &T, u: &U) -> i32\n",
    "where\n",
    "    T: Display + Clone,\n",
    "    U: Clone + Debug,\n",
    "{\n",
    "    ...\n",
    "```"
   ]
  },
  {
   "attachments": {},
   "cell_type": "markdown",
   "metadata": {},
   "source": [
    "### d. 回傳有實作特徵的型別\n",
    "\n",
    "> 我們也能在回傳的位置使用 impl Trait 語法來回傳某個有實作特徵的型別數值，如以下所示："
   ]
  },
  {
   "cell_type": "code",
   "execution_count": 18,
   "metadata": {
    "vscode": {
     "languageId": "rust"
    }
   },
   "outputs": [],
   "source": [
    "fn returns_summarizable() -> impl Summary {\n",
    "    Tweet {\n",
    "        username: String::from(\"horse_ebooks\"),\n",
    "        content: String::from(\n",
    "            \"of course, as you probably already know, people\",\n",
    "        ),\n",
    "        reply: false,\n",
    "        retweet: false,\n",
    "    }\n",
    "}\n",
    "// returns_summarizable()"
   ]
  },
  {
   "attachments": {},
   "cell_type": "markdown",
   "metadata": {},
   "source": [
    "但你只能在回傳中使用**其中一種實作**，如果你的回傳會是會在多種實作中選其中一個則會出錯\n",
    "\n",
    "<div>\n",
    "    <img src=\"./does_not_compile.svg\" width=\"100\"/>\n",
    "</div>"
   ]
  },
  {
   "cell_type": "code",
   "execution_count": 19,
   "metadata": {
    "vscode": {
     "languageId": "rust"
    }
   },
   "outputs": [
    {
     "ename": "Error",
     "evalue": "`if` and `else` have incompatible types",
     "output_type": "error",
     "traceback": [
      "\u001b[31m[E0308] Error:\u001b[0m `if` and `else` have incompatible types",
      "    \u001b[38;5;246m╭\u001b[0m\u001b[38;5;246m─\u001b[0m\u001b[38;5;246m[\u001b[0mcommand_19:1:1\u001b[38;5;246m]\u001b[0m",
      "    \u001b[38;5;246m│\u001b[0m",
      " \u001b[38;5;246m 2 │\u001b[0m \u001b[38;5;68m╭\u001b[0m\u001b[38;5;68m─\u001b[0m\u001b[38;5;68m─\u001b[0m\u001b[38;5;68m─\u001b[0m\u001b[38;5;68m─\u001b[0m\u001b[38;5;68m─\u001b[0m\u001b[38;5;68m▶\u001b[0m\u001b[38;5;68m \u001b[0m\u001b[38;5;249m \u001b[0m\u001b[38;5;249m \u001b[0m\u001b[38;5;249m \u001b[0m\u001b[38;5;249m \u001b[0m\u001b[38;5;68mi\u001b[0m\u001b[38;5;68mf\u001b[0m\u001b[38;5;68m \u001b[0m\u001b[38;5;68ms\u001b[0m\u001b[38;5;68mw\u001b[0m\u001b[38;5;68mi\u001b[0m\u001b[38;5;68mt\u001b[0m\u001b[38;5;68mc\u001b[0m\u001b[38;5;68mh\u001b[0m\u001b[38;5;68m \u001b[0m\u001b[38;5;68m{\u001b[0m",
      " \u001b[38;5;246m 3 │\u001b[0m \u001b[38;5;68m│\u001b[0m \u001b[38;5;100m╭\u001b[0m\u001b[38;5;100m─\u001b[0m\u001b[38;5;100m─\u001b[0m\u001b[38;5;100m─\u001b[0m\u001b[38;5;100m▶\u001b[0m\u001b[38;5;100m \u001b[0m\u001b[38;5;68m \u001b[0m\u001b[38;5;68m \u001b[0m\u001b[38;5;68m \u001b[0m\u001b[38;5;68m \u001b[0m\u001b[38;5;68m \u001b[0m\u001b[38;5;68m \u001b[0m\u001b[38;5;68m \u001b[0m\u001b[38;5;68m \u001b[0m\u001b[38;5;100mN\u001b[0m\u001b[38;5;100me\u001b[0m\u001b[38;5;100mw\u001b[0m\u001b[38;5;100ms\u001b[0m\u001b[38;5;100mA\u001b[0m\u001b[38;5;100mr\u001b[0m\u001b[38;5;100mt\u001b[0m\u001b[38;5;100mi\u001b[0m\u001b[38;5;100mc\u001b[0m\u001b[38;5;100ml\u001b[0m\u001b[38;5;100me\u001b[0m\u001b[38;5;100m \u001b[0m\u001b[38;5;100m{\u001b[0m",
      " \u001b[38;5;246m   ⋮\u001b[0m \u001b[38;5;68m⋮\u001b[0m \u001b[38;5;100m⋮\u001b[0m     ",
      " \u001b[38;5;246m13 │\u001b[0m \u001b[38;5;68m│\u001b[0m \u001b[38;5;100m├\u001b[0m\u001b[38;5;100m─\u001b[0m\u001b[38;5;100m─\u001b[0m\u001b[38;5;100m─\u001b[0m\u001b[38;5;100m▶\u001b[0m\u001b[38;5;100m \u001b[0m\u001b[38;5;100m \u001b[0m\u001b[38;5;100m \u001b[0m\u001b[38;5;100m \u001b[0m\u001b[38;5;100m \u001b[0m\u001b[38;5;100m \u001b[0m\u001b[38;5;100m \u001b[0m\u001b[38;5;100m \u001b[0m\u001b[38;5;100m \u001b[0m\u001b[38;5;100m}\u001b[0m",
      " \u001b[38;5;246m   ·\u001b[0m \u001b[38;5;68m│\u001b[0m \u001b[38;5;100m│\u001b[0m                 ",
      " \u001b[38;5;246m   ·\u001b[0m \u001b[38;5;68m│\u001b[0m \u001b[38;5;100m╰\u001b[0m\u001b[38;5;100m─\u001b[0m\u001b[38;5;100m─\u001b[0m\u001b[38;5;100m─\u001b[0m\u001b[38;5;100m─\u001b[0m\u001b[38;5;100m─\u001b[0m\u001b[38;5;100m─\u001b[0m\u001b[38;5;100m─\u001b[0m\u001b[38;5;100m─\u001b[0m\u001b[38;5;100m─\u001b[0m\u001b[38;5;100m─\u001b[0m\u001b[38;5;100m─\u001b[0m\u001b[38;5;100m─\u001b[0m\u001b[38;5;100m─\u001b[0m\u001b[38;5;100m─\u001b[0m\u001b[38;5;100m─\u001b[0m\u001b[38;5;100m─\u001b[0m\u001b[38;5;100m─\u001b[0m expected because of this",
      " \u001b[38;5;246m   ⋮\u001b[0m \u001b[38;5;68m⋮\u001b[0m       ",
      " \u001b[38;5;246m15 │\u001b[0m \u001b[38;5;68m│\u001b[0m   \u001b[38;5;54m╭\u001b[0m\u001b[38;5;54m─\u001b[0m\u001b[38;5;54m▶\u001b[0m\u001b[38;5;54m \u001b[0m\u001b[38;5;68m \u001b[0m\u001b[38;5;68m \u001b[0m\u001b[38;5;68m \u001b[0m\u001b[38;5;68m \u001b[0m\u001b[38;5;68m \u001b[0m\u001b[38;5;68m \u001b[0m\u001b[38;5;68m \u001b[0m\u001b[38;5;68m \u001b[0m\u001b[38;5;54mT\u001b[0m\u001b[38;5;54mw\u001b[0m\u001b[38;5;54me\u001b[0m\u001b[38;5;54me\u001b[0m\u001b[38;5;54mt\u001b[0m\u001b[38;5;54m \u001b[0m\u001b[38;5;54m{\u001b[0m",
      " \u001b[38;5;246m   ⋮\u001b[0m \u001b[38;5;68m⋮\u001b[0m   \u001b[38;5;54m⋮\u001b[0m   ",
      " \u001b[38;5;246m22 │\u001b[0m \u001b[38;5;68m│\u001b[0m   \u001b[38;5;54m├\u001b[0m\u001b[38;5;54m─\u001b[0m\u001b[38;5;54m▶\u001b[0m\u001b[38;5;54m \u001b[0m\u001b[38;5;54m \u001b[0m\u001b[38;5;54m \u001b[0m\u001b[38;5;54m \u001b[0m\u001b[38;5;54m \u001b[0m\u001b[38;5;54m \u001b[0m\u001b[38;5;54m \u001b[0m\u001b[38;5;54m \u001b[0m\u001b[38;5;54m \u001b[0m\u001b[38;5;54m}\u001b[0m",
      " \u001b[38;5;246m   ·\u001b[0m \u001b[38;5;68m│\u001b[0m   \u001b[38;5;54m│\u001b[0m               ",
      " \u001b[38;5;246m   ·\u001b[0m \u001b[38;5;68m│\u001b[0m   \u001b[38;5;54m╰\u001b[0m\u001b[38;5;54m─\u001b[0m\u001b[38;5;54m─\u001b[0m\u001b[38;5;54m─\u001b[0m\u001b[38;5;54m─\u001b[0m\u001b[38;5;54m─\u001b[0m\u001b[38;5;54m─\u001b[0m\u001b[38;5;54m─\u001b[0m\u001b[38;5;54m─\u001b[0m\u001b[38;5;54m─\u001b[0m\u001b[38;5;54m─\u001b[0m\u001b[38;5;54m─\u001b[0m\u001b[38;5;54m─\u001b[0m\u001b[38;5;54m─\u001b[0m\u001b[38;5;54m─\u001b[0m\u001b[38;5;54m─\u001b[0m expected struct `NewsArticle`, found struct `Tweet`",
      " \u001b[38;5;246m23 │\u001b[0m \u001b[38;5;68m├\u001b[0m\u001b[38;5;68m─\u001b[0m\u001b[38;5;68m─\u001b[0m\u001b[38;5;68m─\u001b[0m\u001b[38;5;68m─\u001b[0m\u001b[38;5;68m─\u001b[0m\u001b[38;5;68m▶\u001b[0m\u001b[38;5;68m \u001b[0m\u001b[38;5;68m \u001b[0m\u001b[38;5;68m \u001b[0m\u001b[38;5;68m \u001b[0m\u001b[38;5;68m \u001b[0m\u001b[38;5;68m}\u001b[0m",
      " \u001b[38;5;246m   ·\u001b[0m \u001b[38;5;68m│\u001b[0m               ",
      " \u001b[38;5;246m   ·\u001b[0m \u001b[38;5;68m╰\u001b[0m\u001b[38;5;68m─\u001b[0m\u001b[38;5;68m─\u001b[0m\u001b[38;5;68m─\u001b[0m\u001b[38;5;68m─\u001b[0m\u001b[38;5;68m─\u001b[0m\u001b[38;5;68m─\u001b[0m\u001b[38;5;68m─\u001b[0m\u001b[38;5;68m─\u001b[0m\u001b[38;5;68m─\u001b[0m\u001b[38;5;68m─\u001b[0m\u001b[38;5;68m─\u001b[0m\u001b[38;5;68m─\u001b[0m\u001b[38;5;68m─\u001b[0m\u001b[38;5;68m─\u001b[0m\u001b[38;5;68m─\u001b[0m `if` and `else` have incompatible types",
      "\u001b[38;5;246m────╯\u001b[0m"
     ]
    }
   ],
   "source": [
    "fn returns_summarizable(switch: bool) -> impl Summary {\n",
    "    if switch {\n",
    "        NewsArticle {\n",
    "            headline: String::from(\n",
    "                \"Penguins win the Stanley Cup Championship!\",\n",
    "            ),\n",
    "            location: String::from(\"Pittsburgh, PA, USA\"),\n",
    "            author: String::from(\"Iceburgh\"),\n",
    "            content: String::from(\n",
    "                \"The Pittsburgh Penguins once again are the best \\\n",
    "                 hockey team in the NHL.\",\n",
    "            ),\n",
    "        }\n",
    "    } else {\n",
    "        Tweet {\n",
    "            username: String::from(\"horse_ebooks\"),\n",
    "            content: String::from(\n",
    "                \"of course, as you probably already know, people\",\n",
    "            ),\n",
    "            reply: false,\n",
    "            retweet: false,\n",
    "        }\n",
    "    }\n",
    "}\n"
   ]
  },
  {
   "attachments": {},
   "cell_type": "markdown",
   "metadata": {},
   "source": [
    "> 寫說可能回傳 NewsArticle 或 Tweet 的話是不被允許的，因為 impl Trait 語法會限制在編譯器中最終決定的型別。我們會在第十七章的「允許不同型別數值的特徵物件」來討論如何寫出這種行為的函式。"
   ]
  },
  {
   "attachments": {},
   "cell_type": "markdown",
   "metadata": {},
   "source": [
    "---\n",
    "#### f. 透過特徵界限來選擇性實作方法\n",
    "> 在有使用泛型型別參數 impl 區塊中使用特徵界限，我們可以選擇性地對有實作特定特徵的型別來實作方法。\n",
    "> \n",
    "> 舉例來說，下面的 `Pair<T>` 對所有 `T` 實作了 `new` 函式來回傳新的 `Pair<T>` 實例\n",
    "> \n",
    "> （回想一下第五章的「定義方法」段落，`Self` 是 `impl` 區塊內的型別別名，在此例就是 `Pair<T>`）。\n",
    "> \n",
    "> 但在下一個 `impl` 區塊中，只有在其內部型別 `T` 有實作能夠做比較的 `PartialOrd` 特徵以及能夠顯示在螢幕的 `Display` 特徵的話，才會實作 `cmp_display` 方法。\n",
    "\n",
    "這就有點類似某些語言如Python中，透過 `overload` 來定義一個函數遭遇不同型別時的行為"
   ]
  },
  {
   "cell_type": "code",
   "execution_count": null,
   "metadata": {
    "vscode": {
     "languageId": "rust"
    }
   },
   "outputs": [],
   "source": [
    "use std::fmt::Display;\n",
    "\n",
    "struct Pair<T> {\n",
    "    x: T,\n",
    "    y: T,\n",
    "}\n",
    "\n",
    "// 當輸入隨便一個型別\n",
    "// 就維持原樣回傳\n",
    "impl<T> Pair<T> {\n",
    "    // `Self` 是 `impl` 區塊內的型別別名，在此例就是 `Pair<T>`\n",
    "    fn new(x: T, y: T) -> Self {\n",
    "        Self { x, y }\n",
    "    }\n",
    "}\n",
    "\n",
    "// 但如果是實作了 `Display` 與 `PartialOrd` 的型別\n",
    "// 就定義一個新的 `cmp_display` 方法\n",
    "impl<T: Display + PartialOrd> Pair<T> {\n",
    "    // `Self` 是 `impl` 區塊內的型別別名，在此例就是 `Pair<T>`\n",
    "    fn cmp_display(&self) {\n",
    "        if self.x >= self.y {\n",
    "            println!(\"最大的是 x = {}\", self.x);\n",
    "        } else {\n",
    "            println!(\"最大的是 y = {}\", self.y);\n",
    "        }\n",
    "    }\n",
    "}\n"
   ]
  }
 ],
 "metadata": {
  "kernelspec": {
   "display_name": "Rust",
   "language": "rust",
   "name": "rust"
  },
  "language_info": {
   "codemirror_mode": "rust",
   "file_extension": ".rs",
   "mimetype": "text/rust",
   "name": "Rust",
   "pygment_lexer": "rust",
   "version": ""
  },
  "orig_nbformat": 4
 },
 "nbformat": 4,
 "nbformat_minor": 2
}
